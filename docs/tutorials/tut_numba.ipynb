{
 "cells": [
  {
   "cell_type": "markdown",
   "id": "2ae54cde",
   "metadata": {},
   "source": [
    "# Numba acceleration\n",
    "\n",
    "This tutorial covers how to use numba to accelerate components."
   ]
  }
 ],
 "metadata": {
  "jupytext": {
   "cell_metadata_filter": "-all",
   "main_language": "python",
   "notebook_metadata_filter": "-all"
  }
 },
 "nbformat": 4,
 "nbformat_minor": 5
}
