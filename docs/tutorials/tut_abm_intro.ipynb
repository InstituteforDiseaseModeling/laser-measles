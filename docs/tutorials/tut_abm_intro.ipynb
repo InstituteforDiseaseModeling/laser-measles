{
 "cells": [
  {
   "cell_type": "markdown",
   "id": "60c664f6",
   "metadata": {},
   "source": [
    "# ABM Model Introduction\n",
    "\n",
    "This tutorial serves as an introduction to the ABM model in laser-measles"
   ]
  }
 ],
 "metadata": {
  "jupytext": {
   "cell_metadata_filter": "-all",
   "main_language": "python",
   "notebook_metadata_filter": "-all"
  }
 },
 "nbformat": 4,
 "nbformat_minor": 5
}
