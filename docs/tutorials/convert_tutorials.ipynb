{
 "cells": [
  {
   "cell_type": "code",
   "execution_count": null,
   "id": "6fa5a4ff",
   "metadata": {},
   "outputs": [],
   "source": [
    "\"\"\"Convert .py tutorial files to .ipynb notebooks using jupytext.\"\"\""
   ]
  },
  {
   "cell_type": "code",
   "execution_count": null,
   "id": "d06311fb",
   "metadata": {},
   "outputs": [],
   "source": [
    "import glob\n",
    "import os\n",
    "import subprocess\n",
    "import sys"
   ]
  },
  {
   "cell_type": "code",
   "execution_count": null,
   "id": "cc09fab8",
   "metadata": {},
   "outputs": [],
   "source": [
    "def convert_tutorials():\n",
    "    \"\"\"Convert all tut_*.py files to notebooks.\"\"\"\n",
    "    # Change to the tutorials directory\n",
    "    script_dir = os.path.dirname(os.path.abspath(__file__))\n",
    "    os.chdir(script_dir)\n",
    "\n",
    "    # Find all tutorial Python files\n",
    "    py_files = glob.glob(\"tut_*.py\")\n",
    "\n",
    "    if not py_files:\n",
    "        print(\"No tutorial files found matching pattern 'tut_*.py'\")\n",
    "        return\n",
    "\n",
    "    for py_file in py_files:\n",
    "        print(f\"Converting {py_file} to notebook...\")\n",
    "        try:\n",
    "            subprocess.run([sys.executable, \"-m\", \"jupytext\", \"--to\", \"notebook\", py_file], check=True)\n",
    "            print(f\"Successfully converted {py_file}\")\n",
    "        except subprocess.CalledProcessError as e:\n",
    "            print(f\"Error converting {py_file}: {e}\")\n",
    "            sys.exit(1)\n",
    "\n",
    "    print(f\"Successfully converted {len(py_files)} tutorial files to notebooks\")"
   ]
  },
  {
   "cell_type": "code",
   "execution_count": null,
   "id": "127d1cad",
   "metadata": {},
   "outputs": [],
   "source": [
    "if __name__ == \"__main__\":\n",
    "    convert_tutorials()"
   ]
  }
 ],
 "metadata": {
  "jupytext": {
   "cell_metadata_filter": "-all",
   "executable": "/usr/bin/env python3",
   "main_language": "python",
   "notebook_metadata_filter": "-all"
  }
 },
 "nbformat": 4,
 "nbformat_minor": 5
}
