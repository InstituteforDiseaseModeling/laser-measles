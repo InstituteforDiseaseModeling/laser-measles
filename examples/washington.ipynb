{
 "cells": [
  {
   "cell_type": "markdown",
   "metadata": {},
   "source": [
    "# Run \"Generic\" (Washington State) Measles Model\n",
    "\n",
    "First, import the necessary components from the `laser-measles` package.\n",
    "\n",
    "- We need births to refill the population of susceptible agents over time.\n",
    "- We will model non-disease deaths to reduce the population of recovered agents over time.\n",
    "- We will run an SEIR model, so we need susceptibility, incubation, infection, and transmission.\n",
    "- We want to model initial maternal antibodies.\n",
    "- We want to model routine immunization (RI) of infants."
   ]
  },
  {
   "cell_type": "code",
   "execution_count": null,
   "metadata": {},
   "outputs": [],
   "source": [
    "from laser_measles import Births\n",
    "from laser_measles import Incubation\n",
    "from laser_measles import Infection\n",
    "from laser_measles import MaternalAntibodies\n",
    "from laser_measles import Model\n",
    "from laser_measles import NonDiseaseDeaths\n",
    "from laser_measles import RoutineImmunization\n",
    "from laser_measles import Susceptibility\n",
    "from laser_measles import Transmission\n",
    "from laser_measles.generic import get_parameters\n",
    "from laser_measles.generic import get_scenario\n",
    "from laser_measles.utils import seed_infections_in_patch"
   ]
  },
  {
   "cell_type": "markdown",
   "metadata": {},
   "source": [
    "## Parameterization and Composition\n",
    "\n",
    "We will use the \"generic\" parameters and scenario (Washington counties and year 2000 populations and age pyramid).\n",
    "\n",
    "We will set up the model with the components we have imported from `laser_measles`."
   ]
  },
  {
   "cell_type": "code",
   "execution_count": null,
   "metadata": {},
   "outputs": [],
   "source": [
    "parameters = get_parameters({\"nticks\": 1825, \"seed\": 20241203, \"verbose\": True})\n",
    "scenario = get_scenario(parameters, parameters[\"verbose\"])\n",
    "model = Model(scenario, parameters)\n",
    "\n",
    "# infection dynamics come _before_ incubation dynamics so newly set itimers\n",
    "# don't immediately expire\n",
    "model.components = [\n",
    "    Births,\n",
    "    NonDiseaseDeaths,\n",
    "    Susceptibility,\n",
    "    MaternalAntibodies,\n",
    "    RoutineImmunization,\n",
    "    Infection,\n",
    "    Incubation,\n",
    "    Transmission,\n",
    "]"
   ]
  },
  {
   "cell_type": "markdown",
   "metadata": {},
   "source": [
    "## Run the Model\n",
    "\n",
    "1. seed 100 infections in the largest patch (13 or King County)\n",
    "2. run the model for the number of ticks, `nticks`, specified in the parameters to the model above."
   ]
  },
  {
   "cell_type": "code",
   "execution_count": null,
   "metadata": {},
   "outputs": [],
   "source": [
    "seed_infections_in_patch(model, ipatch=13, ninfections=100)\n",
    "\n",
    "model.run()"
   ]
  },
  {
   "cell_type": "markdown",
   "metadata": {},
   "source": [
    "## Validation/Visualization\n",
    "\n",
    "Use `model.visualize()` to call the `plot()` functions of each of the components in the model."
   ]
  },
  {
   "cell_type": "code",
   "execution_count": null,
   "metadata": {},
   "outputs": [],
   "source": [
    "model.visualize(pdf=False)"
   ]
  }
 ],
 "metadata": {
  "kernelspec": {
   "display_name": ".venv",
   "language": "python",
   "name": "python3"
  },
  "language_info": {
   "codemirror_mode": {
    "name": "ipython",
    "version": 3
   },
   "file_extension": ".py",
   "mimetype": "text/x-python",
   "name": "python",
   "nbconvert_exporter": "python",
   "pygments_lexer": "ipython3",
   "version": "3.9.19"
  }
 },
 "nbformat": 4,
 "nbformat_minor": 2
}
