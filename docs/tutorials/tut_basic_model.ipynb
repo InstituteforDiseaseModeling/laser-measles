{
 "cells": [
  {
   "cell_type": "markdown",
   "id": "d6a4bcf7",
   "metadata": {},
   "source": [
    "# Creating and running models\n",
    "\n",
    "This tutorial demonstrates how to initialize and run a model using\n",
    "the laser-measles framework.\n",
    "\n",
    "The tutorial covers:\n",
    "- Setting up scenario data with multiple spatial nodes\n",
    "- Configuring model parameters including transmission and vital dynamics\n",
    "- Adding components for disease transmission and state tracking\n",
    "- Running the simulation and visualizing results"
   ]
  },
  {
   "cell_type": "markdown",
   "id": "b9cf0c00",
   "metadata": {},
   "source": [
    "## Setting up the scenario\n",
    "\n",
    "First we'll load a scenario with two clusters of 50 spatial nodes each,\n",
    "representing different communities around two major population centers.\n",
    "Each node has population, geographic coordinates, and MCV1 vaccination coverage.\n",
    "The nodes are distributed around each center using a Gaussian distribution\n",
    "for radial distance, creating realistic spatial clustering patterns.\n",
    "We will also divide the nodes into clusters using colon convention: (cluster_i:node_j).\n",
    "This is useful for doing spatial aggregation of e.g., case counts.\n",
    "\n",
    "laser-measles comes with a few simple scenarios which you can access\n",
    "from the `scenarios` module (e.g. `from laser_measles import scenarios`).\n",
    "For this demo we will use one of the `synthetic` scenarios."
   ]
  },
  {
   "cell_type": "code",
   "execution_count": null,
   "id": "21a11a45",
   "metadata": {},
   "outputs": [],
   "source": [
    "import matplotlib.pyplot as plt\n",
    "import numpy as np\n",
    "\n",
    "from laser_measles.scenarios import synthetic\n",
    "\n",
    "scenario = synthetic.two_cluster_scenario(cluster_size_std=1.0)\n",
    "plt.figure(figsize=(6, 5))\n",
    "plt.scatter(scenario[\"lon\"], scenario[\"lat\"], c=scenario[\"pop\"], cmap=\"viridis\")\n",
    "plt.colorbar(label=\"Population\")\n",
    "plt.xlabel(\"Longitude\")\n",
    "plt.ylabel(\"Latitude\")\n",
    "plt.title(\"Population Distribution\")\n",
    "plt.show()"
   ]
  },
  {
   "cell_type": "markdown",
   "id": "bf658f0a",
   "metadata": {},
   "source": [
    "\n",
    "The scenario data is a polars dataframe with the following columns:\n",
    "- `lat`: latitude\n",
    "- `lon`: longitude\n",
    "- `pop`: population\n",
    "- `mcv1`: MCV1 coverage\n",
    "Each row represents a spatial patch in the model."
   ]
  },
  {
   "cell_type": "code",
   "execution_count": null,
   "id": "bf9e3e18",
   "metadata": {},
   "outputs": [],
   "source": [
    "\n",
    "scenario.head(n=3)"
   ]
  },
  {
   "cell_type": "markdown",
   "id": "2c1b9e8a",
   "metadata": {},
   "source": [
    "## Model selection\n",
    "The main models (biweekly, compartmental, and abm) are meant - for the simplest instantiations - to be interchangeable.\n",
    "This can be done at the import level. For example, we'll start with the fastest model, the biweekly one."
   ]
  },
  {
   "cell_type": "code",
   "execution_count": null,
   "id": "5d46cc07",
   "metadata": {},
   "outputs": [],
   "source": [
    "from laser_measles.biweekly import BaseScenario\n",
    "from laser_measles.biweekly import BiweeklyParams\n",
    "from laser_measles.biweekly import Model\n",
    "from laser_measles.biweekly import components\n",
    "from laser_measles.components import create_component"
   ]
  },
  {
   "cell_type": "markdown",
   "id": "abb2ee84",
   "metadata": {
    "lines_to_next_cell": 0
   },
   "source": [
    "## Create a scenario and parameter validation\n",
    "The scenario sets the initial condition for the simulation and is a collection of patches,\n",
    "each with a population, geographic coordinates, and MCV1 vaccination coverage.\n",
    "The BaseScenario class will validate the dataframe to make sure it is in the right format.\n",
    "If you simply pass the dataframe the Scenario is constructed during initialization.\n",
    "\n",
    "This is a pattern that you will see across laser-measles."
   ]
  },
  {
   "cell_type": "code",
   "execution_count": null,
   "id": "04c09607",
   "metadata": {},
   "outputs": [],
   "source": [
    "\n",
    "# Try to create BaseScenario object missing the lat column\n",
    "try:\n",
    "    scenario = BaseScenario(scenario.drop(\"lat\"))\n",
    "except ValueError:\n",
    "    import traceback\n",
    "\n",
    "    print(\"Error creating BaseScenario object missing the 'lat' column:\")\n",
    "    traceback.print_exc()"
   ]
  },
  {
   "cell_type": "markdown",
   "id": "fad48d48",
   "metadata": {},
   "source": [
    "## Initialize Model Parameters and Components\n",
    "The Model is passed parameters that set the overall behavior of the simulation.\n",
    "For example, the duration of the simulation (`num_ticks`) and the random seed for\n",
    "reproducibility (`seed`). However, the processes included in the simulation (e.g.,\n",
    "transmission, vital dynamics, immunization campaigns) will be determined by **selecting\n",
    "and including the relevant components**. Each component has its own associated parameters."
   ]
  },
  {
   "cell_type": "code",
   "execution_count": null,
   "id": "e4b917e3",
   "metadata": {},
   "outputs": [],
   "source": [
    "# Calculate number of time steps (bi-weekly for 5 years)\n",
    "years = 20\n",
    "num_ticks = years * 26  # 26 bi-weekly periods per year\n",
    "\n",
    "# Create model parameters\n",
    "params = BiweeklyParams(\n",
    "    num_ticks=num_ticks,\n",
    "    seed=42,\n",
    "    verbose=True,\n",
    "    start_time=\"2000-01\",  # YYYY-MM format\n",
    ")\n",
    "\n",
    "print(f\"Model configured for {num_ticks} time steps ({years} years)\")\n",
    "print(f\"Parameters: {params}\")\n",
    "\n",
    "# Create the biweekly model\n",
    "biweekly_model = Model(scenario, params, name=\"biweekly_tutorial\")\n",
    "\n",
    "# Currently the model has no components\n",
    "print(f\"Model has {len(biweekly_model.components)} components: {biweekly_model.components}\")\n",
    "\n",
    "# Create infection parameters with seasonal transmission\n",
    "infection_params = components.InfectionParams(\n",
    "    seasonality=0.3,  # seasonal variation\n",
    ")\n",
    "\n",
    "# Create model components\n",
    "model_components = [\n",
    "    components.InitializeEquilibriumStatesProcess,  # Initialize the states\n",
    "    components.ImportationPressureProcess,  # Infection seeding\n",
    "    create_component(components.InfectionProcess, params=infection_params),  # Infections\n",
    "    components.VitalDynamicsProcess,  # Births/deaths\n",
    "]\n",
    "biweekly_model.components = model_components\n",
    "print(f\"Model has {len(biweekly_model.components)} components: {biweekly_model.components}\")\n",
    "\n",
    "# You can also add components using the `add_component` method\n",
    "biweekly_model.add_component(components.StateTracker)\n",
    "print(f\"Model has {len(biweekly_model.components)} components: {biweekly_model.components}\")"
   ]
  },
  {
   "cell_type": "markdown",
   "id": "face5be7",
   "metadata": {},
   "source": [
    "## Components vs Instances\n",
    "\n",
    "Note that when we setup the `model.components` we pass a reference to the component Class (e.g., `components.VitalDynamicsProcess`) and not instances of the Class itself\n",
    "(e.g., `components.VitalDynamicsProcess()`). The `Model` creates instances of the class and those are stored in the `model.instances` attribute. This is why if you want to\n",
    "pass parameters different than the defaults to the components you should use the `create_component` function."
   ]
  },
  {
   "cell_type": "code",
   "execution_count": null,
   "id": "6eaca057",
   "metadata": {},
   "outputs": [],
   "source": [
    "print(biweekly_model.instances)"
   ]
  },
  {
   "cell_type": "markdown",
   "id": "4b557fc7",
   "metadata": {},
   "source": [
    "## Run the Simulation\n",
    "\n",
    "Execute the model for the specified number of time steps.\n",
    "Since we set verbose=True we will get additional timing information."
   ]
  },
  {
   "cell_type": "code",
   "execution_count": null,
   "id": "9d27e904",
   "metadata": {},
   "outputs": [],
   "source": [
    "print(\"Starting simulation...\")\n",
    "biweekly_model.run()\n",
    "print(\"Simulation completed!\")\n",
    "\n",
    "# Print final state summary\n",
    "print(\"\\nFinal state distribution:\")\n",
    "print(f\"Total Susceptible: {biweekly_model.patches.states[0].sum():,}\")\n",
    "print(f\"Total Infected: {biweekly_model.patches.states[1].sum():,}\")\n",
    "print(f\"Total Recovered: {biweekly_model.patches.states[2].sum():,}\")\n",
    "print(f\"Total Population: {biweekly_model.patches.states.sum():,}\")"
   ]
  },
  {
   "cell_type": "markdown",
   "id": "9703f406",
   "metadata": {},
   "source": [
    "## Switching models\n",
    "\n",
    "We can use the same syntax to create a compartmental (SEIR, daily time steps) model"
   ]
  },
  {
   "cell_type": "code",
   "execution_count": null,
   "id": "6d808c22",
   "metadata": {},
   "outputs": [],
   "source": [
    "from laser_measles.compartmental import BaseScenario\n",
    "from laser_measles.compartmental import CompartmentalParams\n",
    "from laser_measles.compartmental import Model\n",
    "from laser_measles.compartmental import components\n",
    "\n",
    "# Create model parameters\n",
    "params = CompartmentalParams(\n",
    "    num_ticks=years * 365,\n",
    "    seed=42,\n",
    "    verbose=True,\n",
    "    start_time=\"2000-01\",  # YYYY-MM format\n",
    ")\n",
    "\n",
    "# Create the compartmental model\n",
    "compartmental_model = Model(scenario, params, name=\"compartmental_tutorial\")\n",
    "\n",
    "# Create infection parameters with seasonal transmission\n",
    "infection_params = components.InfectionParams(\n",
    "    seasonality=0.3,\n",
    ")\n",
    "# Create model components\n",
    "model_components = [\n",
    "    components.InitializeEquilibriumStatesProcess,  # Initialize the states\n",
    "    components.ImportationPressureProcess,  # Infection seeding\n",
    "    create_component(components.InfectionProcess, params=infection_params),  # Infections\n",
    "    components.VitalDynamicsProcess,  # Births/deaths\n",
    "    components.StateTracker,  # State tracking\n",
    "]\n",
    "compartmental_model.components = model_components\n",
    "\n",
    "# Run the simulation\n",
    "print(\"Starting simulation...\")\n",
    "compartmental_model.run()\n",
    "print(\"Simulation completed!\")\n",
    "\n",
    "# Print final state summary\n",
    "print(\"\\nFinal state distribution:\")\n",
    "print(f\"Total Susceptible: {compartmental_model.patches.states[0].sum():,}\")\n",
    "print(f\"Total Infected: {compartmental_model.patches.states[1].sum():,}\")\n",
    "print(f\"Total Recovered: {compartmental_model.patches.states[2].sum():,}\")\n",
    "print(f\"Total Population: {compartmental_model.patches.states.sum():,}\")"
   ]
  },
  {
   "cell_type": "markdown",
   "id": "f3033247",
   "metadata": {},
   "source": [
    "## Visualize Results\n",
    "\n",
    "Generate plots to analyze the simulation results, including time series\n",
    "of disease states and spatial distribution of the final epidemic."
   ]
  },
  {
   "cell_type": "code",
   "execution_count": null,
   "id": "9b362f22",
   "metadata": {},
   "outputs": [],
   "source": [
    "import matplotlib.pyplot as plt\n",
    "\n",
    "\n",
    "def make_plot(model):\n",
    "    # Get the state tracker instance from the model\n",
    "    state_tracker = model.get_instance(\"StateTracker\")[0]\n",
    "    if state_tracker is None:\n",
    "        raise RuntimeError(\"StateTracker not found in model instances\")\n",
    "\n",
    "    def lookup_state_idx(model, state):\n",
    "        return model.params.states.index(state)\n",
    "\n",
    "    # Create comprehensive visualization\n",
    "    fig = plt.figure(figsize=(15, 5))\n",
    "\n",
    "    # Population time series\n",
    "    total_population = state_tracker.state_tracker.sum(axis=0).flatten()\n",
    "\n",
    "    # Plot 1: Time series of susceptibility fraction\n",
    "    ax1 = plt.subplot(1, 3, 1)\n",
    "    time_steps = np.arange(model.params.num_ticks)\n",
    "    ax1.plot(time_steps, state_tracker.S / total_population, \"-\", linewidth=2)\n",
    "    ax1.set_xlabel(\"Time (ticks)\")\n",
    "    ax1.set_ylabel(\"Susceptible Fraction\")\n",
    "    ax1.set_title(\"Susceptible Fraction Over Time\")\n",
    "    ax1.grid(True, alpha=0.3)\n",
    "\n",
    "    # Plot 2: Spatial distribution of final states\n",
    "    scenario_data = model.scenario\n",
    "    coordinates = scenario_data[[\"lat\", \"lon\"]].to_numpy()\n",
    "    final_recovered = model.patches.states[lookup_state_idx(model, \"R\")] + model.patches.states[lookup_state_idx(model, \"I\")]  # R + I\n",
    "    initial_population = scenario_data[\"pop\"].to_numpy()\n",
    "    attack_rates = (final_recovered / initial_population) * 100\n",
    "    ax2 = plt.subplot(1, 3, 2)\n",
    "    coords_array = np.array(coordinates)\n",
    "    # Size points by population, color by attack rate\n",
    "    # Scale down point sizes for better visualization with many nodes\n",
    "    point_sizes = np.array(scenario_data[\"pop\"]) / 1000\n",
    "    scatter = ax2.scatter(coords_array[:, 1], coords_array[:, 0], s=point_sizes, c=attack_rates, cmap=\"Reds\", alpha=0.7, edgecolors=\"black\")\n",
    "    ax2.set_xlabel(\"Longitude\")\n",
    "    ax2.set_ylabel(\"Latitude\")\n",
    "    ax2.set_title(\"Spatial Attack Rate Distribution\")\n",
    "    plt.colorbar(scatter, ax=ax2, label=\"Attack Rate (%)\")\n",
    "\n",
    "    # Plot 3: Epidemic curve (infections per time step)\n",
    "    ax3 = plt.subplot(1, 3, 3)\n",
    "    ax3.plot(time_steps, state_tracker.I, \"red\", linewidth=1)\n",
    "    ax3.set_xlabel(\"Time (ticks)\")\n",
    "    ax3.set_ylabel(\"Infectious\")\n",
    "    ax3.set_title(\"Epidemic Curve\")\n",
    "    ax3.grid(True, alpha=0.3)\n",
    "\n",
    "    plt.tight_layout()"
   ]
  },
  {
   "cell_type": "markdown",
   "id": "716d7772",
   "metadata": {},
   "source": [
    "Plot the biweekly model results:"
   ]
  },
  {
   "cell_type": "code",
   "execution_count": null,
   "id": "dc95b321",
   "metadata": {},
   "outputs": [],
   "source": [
    "make_plot(biweekly_model)"
   ]
  },
  {
   "cell_type": "markdown",
   "id": "0f41630a",
   "metadata": {},
   "source": [
    "Plot the compartmental model results:"
   ]
  },
  {
   "cell_type": "code",
   "execution_count": null,
   "id": "3ed076c1",
   "metadata": {},
   "outputs": [],
   "source": [
    "make_plot(compartmental_model)"
   ]
  }
 ],
 "metadata": {
  "jupytext": {
   "cell_metadata_filter": "-all",
   "main_language": "python",
   "notebook_metadata_filter": "-all"
  }
 },
 "nbformat": 4,
 "nbformat_minor": 5
}
