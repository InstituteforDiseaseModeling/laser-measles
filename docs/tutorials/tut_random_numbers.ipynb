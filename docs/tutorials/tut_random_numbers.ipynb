{
 "cells": [
  {
   "cell_type": "markdown",
   "id": "938d0f3d",
   "metadata": {},
   "source": [
    "# Random Numbers and Reproducibility\n",
    "\n",
    "This tutorial covers how random numbers are handled in laser-measles models to ensure reproducibility.\n",
    "Understanding this is crucial for debugging, testing, and scientific reproducibility."
   ]
  },
  {
   "cell_type": "markdown",
   "id": "7772cca8",
   "metadata": {},
   "source": [
    "## Core Concepts\n",
    "\n",
    "### Model Seeding\n",
    "\n",
    "All laser-measles models automatically seed their random number generator from the `seed` parameter.\n",
    "If no seed is provided, the model uses the current microsecond timestamp."
   ]
  },
  {
   "cell_type": "code",
   "execution_count": null,
   "id": "efb8de4d",
   "metadata": {},
   "outputs": [],
   "source": [
    "from laser_measles.compartmental.model import CompartmentalModel\n",
    "from laser_measles.compartmental.params import CompartmentalParams\n",
    "from laser_measles.scenarios.synthetic import single_patch_scenario\n",
    "\n",
    "# Create scenario and parameters\n",
    "scenario = single_patch_scenario(population=10000)\n",
    "params = CompartmentalParams(seed=42, num_ticks=100)\n",
    "\n",
    "# Model automatically seeds from params.seed\n",
    "model = CompartmentalModel(scenario, params)\n",
    "print(f\"Model PRNG seeded with: {params.seed}\")"
   ]
  },
  {
   "cell_type": "markdown",
   "id": "fffb0e91",
   "metadata": {},
   "source": [
    "### How laser_core Handles Seeding\n",
    "\n",
    "Behind the scenes, laser-measles uses `laser_core.random.seed()` to create the random number generator.\n",
    "This function does two important things:\n",
    "\n",
    "1. **Creates a NumPy Generator**: Returns a `numpy.random.Generator` object seeded with the given value\n",
    "2. **Seeds global random state**: Also seeds `numpy.random` and numba's random number generator\n",
    "\n",
    "This ensures both `model.prng` and `np.random` operations are reproducible."
   ]
  },
  {
   "cell_type": "code",
   "execution_count": null,
   "id": "c6c88afc",
   "metadata": {},
   "outputs": [],
   "source": [
    "from laser_core.random import seed as seed_prng\n",
    "\n",
    "# This is what happens inside BaseLaserModel.__init__\n",
    "prng = seed_prng(42)\n",
    "print(f\"PRNG type: {type(prng)}\")\n",
    "print(f\"Available methods: {len([m for m in dir(prng) if not m.startswith('_')])} methods\")\n",
    "\n",
    "# Some key methods available\n",
    "print(\"Key methods:\", [\"random\", \"binomial\", \"poisson\", \"normal\", \"exponential\", \"lognormal\"])"
   ]
  },
  {
   "cell_type": "markdown",
   "id": "4b38467d",
   "metadata": {},
   "source": [
    "### Reproducible Random Numbers\n",
    "\n",
    "The `model.prng` object provides access to the seeded random number generator.\n",
    "This ensures all random operations are reproducible when using the same seed."
   ]
  },
  {
   "cell_type": "code",
   "execution_count": null,
   "id": "286eeb3d",
   "metadata": {},
   "outputs": [],
   "source": [
    "import numpy as np\n",
    "\n",
    "# Same seed produces identical results\n",
    "model1 = CompartmentalModel(scenario, CompartmentalParams(seed=123, num_ticks=10))\n",
    "model2 = CompartmentalModel(scenario, CompartmentalParams(seed=123, num_ticks=10))\n",
    "\n",
    "# Draw random numbers from each model\n",
    "random1 = model1.prng.random(5)\n",
    "random2 = model2.prng.random(5)\n",
    "\n",
    "print(\"Model 1 random numbers:\", random1)\n",
    "print(\"Model 2 random numbers:\", random2)\n",
    "print(\"Are they identical?\", np.allclose(random1, random2))"
   ]
  },
  {
   "cell_type": "markdown",
   "id": "5042e36b",
   "metadata": {
    "lines_to_next_cell": 2
   },
   "source": [
    "## Usage Patterns\n",
    "\n",
    "### Using model.prng in Components\n",
    "\n",
    "Components should use `model.prng` for random number generation to maintain reproducibility.\n",
    "This is how the biweekly infection process samples new infections:"
   ]
  },
  {
   "cell_type": "code",
   "execution_count": null,
   "id": "baafda18",
   "metadata": {},
   "outputs": [],
   "source": [
    "# Example from biweekly infection process\n",
    "def simulate_infections(model, susceptible_count, infection_probability):\n",
    "    \"\"\"Simulate new infections using model's PRNG\"\"\"\n",
    "    # Use model.prng.binomial for stochastic sampling\n",
    "    new_infections = model.prng.binomial(susceptible_count, infection_probability)\n",
    "    return new_infections\n",
    "\n",
    "\n",
    "# Demonstrate with our model\n",
    "S = np.array([5000, 3000, 2000])  # Susceptible counts\n",
    "prob = np.array([0.01, 0.02, 0.015])  # Infection probabilities\n",
    "\n",
    "new_infections = simulate_infections(model, S, prob)\n",
    "print(\"New infections by patch:\", new_infections)"
   ]
  },
  {
   "cell_type": "markdown",
   "id": "84439551",
   "metadata": {},
   "source": [
    "### NumPy Random Functions\n",
    "\n",
    "For performance-critical code, especially with Numba, use `np.random` functions directly.\n",
    "This is common in ABM transmission processes for sampling exposure times:"
   ]
  },
  {
   "cell_type": "code",
   "execution_count": null,
   "id": "3ebd68cb",
   "metadata": {},
   "outputs": [],
   "source": [
    "import numba as nb\n",
    "\n",
    "\n",
    "@nb.njit\n",
    "def sample_exposure_times(count, mu, sigma):\n",
    "    \"\"\"Sample exposure times using lognormal distribution\"\"\"\n",
    "    # Use np.random directly in numba functions\n",
    "    return np.maximum(1, np.round(np.random.lognormal(mu, sigma, count)))\n",
    "\n",
    "\n",
    "# Example parameters from ABM transmission\n",
    "exp_mu = 6.0  # Mean exposure time\n",
    "exp_sigma = 2.0  # Standard deviation\n",
    "\n",
    "# Convert to lognormal parameters\n",
    "mu_underlying = np.log(exp_mu**2 / np.sqrt(exp_mu**2 + exp_sigma**2))\n",
    "sigma_underlying = np.sqrt(np.log(1 + (exp_sigma / exp_mu) ** 2))\n",
    "\n",
    "# Set numpy seed for reproducibility\n",
    "np.random.seed(42)\n",
    "exposure_times = sample_exposure_times(10, mu_underlying, sigma_underlying)\n",
    "print(\"Exposure times (days):\", exposure_times)"
   ]
  },
  {
   "cell_type": "markdown",
   "id": "e2f6e9d0",
   "metadata": {
    "lines_to_next_cell": 2
   },
   "source": [
    "### Mixed Usage Example\n",
    "\n",
    "Real components often combine both approaches. Here's how the ABM transmission process works:"
   ]
  },
  {
   "cell_type": "code",
   "execution_count": null,
   "id": "9bda51c6",
   "metadata": {},
   "outputs": [],
   "source": [
    "def transmission_example(model, forces, susceptible_agents):\n",
    "    \"\"\"Example showing mixed random number usage\"\"\"\n",
    "\n",
    "    # Use model.prng for high-level decisions\n",
    "    seasonal_factor = 1 + 0.1 * np.sin(2 * np.pi * model.time_elapsed() / 365)\n",
    "\n",
    "    # Simulate infections using model.prng\n",
    "    infected_mask = model.prng.random(len(susceptible_agents)) < forces[susceptible_agents]\n",
    "    newly_infected = susceptible_agents[infected_mask]\n",
    "\n",
    "    # Use np.random for detailed parameters (compatible with numba)\n",
    "    if len(newly_infected) > 0:\n",
    "        exposure_times = sample_exposure_times(len(newly_infected), mu_underlying, sigma_underlying)\n",
    "        print(f\"Infected {len(newly_infected)} agents with exposure times: {exposure_times}\")\n",
    "\n",
    "    return newly_infected\n",
    "\n",
    "\n",
    "# Simulate with dummy data\n",
    "susceptible_agents = np.array([0, 1, 2, 3, 4])\n",
    "forces = np.array([0.1, 0.05, 0.15, 0.08, 0.12])\n",
    "\n",
    "infected = transmission_example(model, forces, susceptible_agents)\n",
    "print(\"Newly infected agents:\", infected)"
   ]
  },
  {
   "cell_type": "markdown",
   "id": "f2b38a7f",
   "metadata": {},
   "source": [
    "## Best Practices\n",
    "\n",
    "### When to Use Each Approach\n",
    "\n",
    "**Use `model.prng`:**\n",
    "- For high-level stochastic processes (infections, births, deaths)\n",
    "- When you need reproducibility across model runs\n",
    "- For sampling from standard distributions (binomial, poisson, normal)\n",
    "\n",
    "**Use `np.random`:**\n",
    "- Inside `@nb.njit` compiled functions\n",
    "- For performance-critical loops\n",
    "- When working with specialized distributions"
   ]
  },
  {
   "cell_type": "markdown",
   "id": "a24b334b",
   "metadata": {
    "lines_to_next_cell": 2
   },
   "source": [
    "### Testing Reproducibility\n",
    "\n",
    "Always test that your models produce identical results with the same seed:"
   ]
  },
  {
   "cell_type": "code",
   "execution_count": null,
   "id": "ef206c08",
   "metadata": {},
   "outputs": [],
   "source": [
    "def test_reproducibility():\n",
    "    \"\"\"Test that models with same seed produce identical results\"\"\"\n",
    "\n",
    "    # Run same model twice with same seed\n",
    "    results1 = []\n",
    "    results2 = []\n",
    "\n",
    "    for seed in [42, 123, 456]:\n",
    "        model_a = CompartmentalModel(scenario, CompartmentalParams(seed=seed, num_ticks=10))\n",
    "        model_b = CompartmentalModel(scenario, CompartmentalParams(seed=seed, num_ticks=10))\n",
    "\n",
    "        # Sample some random numbers\n",
    "        result_a = model_a.prng.random(5)\n",
    "        result_b = model_b.prng.random(5)\n",
    "\n",
    "        results1.append(result_a)\n",
    "        results2.append(result_b)\n",
    "\n",
    "    # Check all results are identical\n",
    "    for i, (r1, r2) in enumerate(zip(results1, results2, strict=False)):\n",
    "        print(f\"Seed test {i + 1}: {'PASS' if np.allclose(r1, r2) else 'FAIL'}\")\n",
    "\n",
    "\n",
    "test_reproducibility()"
   ]
  },
  {
   "cell_type": "markdown",
   "id": "43f19c3a",
   "metadata": {
    "lines_to_next_cell": 2
   },
   "source": [
    "### Numba Compatibility\n",
    "\n",
    "When using numba, set numpy's global seed before calling compiled functions:"
   ]
  },
  {
   "cell_type": "code",
   "execution_count": null,
   "id": "6da3dbb3",
   "metadata": {},
   "outputs": [],
   "source": [
    "@nb.njit\n",
    "def numba_random_example(n):\n",
    "    \"\"\"Example numba function using random numbers\"\"\"\n",
    "    return np.random.exponential(2.0, n)\n",
    "\n",
    "\n",
    "# Set seed before calling numba function\n",
    "np.random.seed(789)\n",
    "result1 = numba_random_example(5)\n",
    "\n",
    "np.random.seed(789)  # Reset seed\n",
    "result2 = numba_random_example(5)\n",
    "\n",
    "print(\"Numba result 1:\", result1)\n",
    "print(\"Numba result 2:\", result2)\n",
    "print(\"Numba reproducible:\", np.allclose(result1, result2))"
   ]
  },
  {
   "cell_type": "markdown",
   "id": "c483a4f4",
   "metadata": {},
   "source": [
    "## Summary\n",
    "\n",
    "Key points for random numbers in laser-measles:\n",
    "\n",
    "1. Set `seed` in model parameters for reproducibility\n",
    "2. Use `model.prng` for component-level random operations\n",
    "3. Use `np.random`  numba-compiled functions\n",
    "\n",
    "This ensures your models are reproducible and scientifically sound."
   ]
  }
 ],
 "metadata": {
  "jupytext": {
   "cell_metadata_filter": "-all",
   "main_language": "python",
   "notebook_metadata_filter": "-all"
  }
 },
 "nbformat": 4,
 "nbformat_minor": 5
}
