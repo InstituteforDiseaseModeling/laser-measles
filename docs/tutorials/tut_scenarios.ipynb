{
 "cells": [
  {
   "cell_type": "markdown",
   "id": "7a83d6c3",
   "metadata": {},
   "source": [
    "# Creating model scenarios\n",
    "\n",
    "The initial conditions of the simulation are dictated by demographics (e.g., population, age distribution, etc.).\n",
    "The laser-measles package provides a number of tools to help you generate demographics for your simulation.\n",
    "In this tutorial, we'll download and process a shapefile of Ethiopia at administrative level 1 boundaries\n",
    "to estimate intitial populations per patch. We will also show how we can sub-divide each boundary shape\n",
    "into roughly equal-area patches."
   ]
  },
  {
   "cell_type": "markdown",
   "id": "d27698db",
   "metadata": {},
   "source": [
    "## Setup and plot the shapefile\n",
    "\n",
    "laser-measles provides some functionality for downloading and plotting GADM shapefiles. Below we will download the data, print it as a dataframe, and then plot it. Note that we have constructed a `DOTNAME` attribute has the format `COUNTRY:REGION`. The data is located in the local directory."
   ]
  },
  {
   "cell_type": "code",
   "execution_count": null,
   "id": "1cb68270",
   "metadata": {},
   "outputs": [],
   "source": [
    "from pathlib import Path\n",
    "\n",
    "from IPython.display import display\n",
    "\n",
    "from laser_measles.demographics import GADMShapefile\n",
    "from laser_measles.demographics import get_shapefile_dataframe\n",
    "from laser_measles.demographics import plot_shapefile_dataframe\n",
    "\n",
    "# Name of the shapefile you want to use\n",
    "shapefile = Path(\"ETH/gadm41_ETH_1.shp\")\n",
    "\n",
    "# We will check whether it exists and download it\n",
    "if not shapefile.exists():\n",
    "    shp = GADMShapefile.download(\"ETH\", admin_level=1)\n",
    "    print(\"Shapefile is now at\", shp.shapefile)\n",
    "else:\n",
    "    print(\"Shapefile already exists\")\n",
    "    shp = GADMShapefile(shapefile=shapefile, admin_level=1)\n",
    "\n",
    "# Access the shapfile and metadata as a polars dataframe\n",
    "# This looks like geopandas but is more limited.\n",
    "df = get_shapefile_dataframe(shp.shapefile)\n",
    "print(df.head(n=2))\n",
    "# Plot the shapefile\n",
    "plot_shapefile_dataframe(df, plot_kwargs={\"facecolor\": \"xkcd:sky blue\"})"
   ]
  },
  {
   "cell_type": "markdown",
   "id": "094fd716",
   "metadata": {},
   "source": [
    "## Population calculation\n",
    "\n",
    "For the simulation we will want to know the initial number of people in each region.\n",
    "First we'll download our population file (~5.6MB) from worldpop using standard libraries:"
   ]
  },
  {
   "cell_type": "code",
   "execution_count": null,
   "id": "a26edade",
   "metadata": {},
   "outputs": [],
   "source": [
    "import requests\n",
    "\n",
    "url = \"https://data.worldpop.org/GIS/Population/Global_2000_2020_1km_UNadj/2010/ETH/eth_ppp_2010_1km_Aggregated_UNadj.tif\"\n",
    "output_path = Path(\"ETH/eth_ppp_2010_1km_Aggregated_UNadj.tif\")\n",
    "\n",
    "if not output_path.exists():\n",
    "    response = requests.get(url, stream=True)\n",
    "    if response.status_code == 200:\n",
    "        with open(output_path, \"wb\") as f:\n",
    "            for chunk in response.iter_content(chunk_size=8192):\n",
    "                f.write(chunk)\n",
    "        print(\"Download complete.\")\n",
    "    else:\n",
    "        print(f\"Failed to download. Status code: {response.status_code}\")"
   ]
  },
  {
   "cell_type": "markdown",
   "id": "8770edf6",
   "metadata": {},
   "source": [
    "We use the `RasterPatchGenerator` to sum the population in each of the shapes.\n",
    "This is saved into a dataframe that we can use to initialize a simulation."
   ]
  },
  {
   "cell_type": "code",
   "execution_count": null,
   "id": "b811e92e",
   "metadata": {},
   "outputs": [],
   "source": [
    "import sciris as sc\n",
    "\n",
    "from laser_measles.demographics import RasterPatchGenerator\n",
    "from laser_measles.demographics import RasterPatchParams\n",
    "\n",
    "# Setup demographics generator\n",
    "config = RasterPatchParams(\n",
    "    id=\"ETH_ADM1\",\n",
    "    region=\"ETH\",\n",
    "    shapefile=shp.shapefile,\n",
    "    population_raster=output_path,\n",
    ")\n",
    "# Create the generator\n",
    "generator = RasterPatchGenerator(config)\n",
    "# Time the population calculation\n",
    "with sc.Timer() as t:\n",
    "    # Generate the demographics (in this case the population per patch)\n",
    "    generator.generate_demographics()\n",
    "    print(f\"Total population: {generator.population['pop'].sum() / 1e6:.2f} million\")  # Should be ~90.5M\n",
    "# the result is stored in a polars dataframe and can be accessed via `population`\n",
    "generator.population.head(n=2)"
   ]
  },
  {
   "cell_type": "markdown",
   "id": "927b6b2b",
   "metadata": {},
   "source": [
    "laser-measles demographics uses caching to save results.\n",
    "Now we will run the calculation again with a new instance of the `RasterPatchGenerator`."
   ]
  },
  {
   "cell_type": "code",
   "execution_count": null,
   "id": "6ae06627",
   "metadata": {},
   "outputs": [],
   "source": [
    "new_generator = RasterPatchGenerator(config)\n",
    "with sc.Timer() as t:\n",
    "    # # Generate the demographics (in this case the population)\n",
    "    new_generator.generate_demographics()\n",
    "    print(f\"Total population: {new_generator.population['pop'].sum() / 1e6:.2f} million\")  # Should be ~90.5M\n",
    "\n",
    "# Note how the time to run the `generate_demographics` method a second time is greatly improved."
   ]
  },
  {
   "cell_type": "markdown",
   "id": "2cb2bfcf",
   "metadata": {},
   "source": [
    "You can access the cache directory using the associated module"
   ]
  },
  {
   "cell_type": "code",
   "execution_count": null,
   "id": "27b45bae",
   "metadata": {},
   "outputs": [],
   "source": [
    "from laser_measles.demographics import cache\n",
    "\n",
    "print(f\"Cache directory: {cache.get_cache_dir()}\")"
   ]
  },
  {
   "cell_type": "markdown",
   "id": "83a36af7",
   "metadata": {},
   "source": [
    "## Sub-divide the regions\n",
    "\n",
    "Now we will generate roughtly equal area patches of 700 km using the original `shp` shapefile.\n",
    "Now each shape has a unique identifier with the form `COUNTRY:REGION:ID`. We will also time how long this takes."
   ]
  },
  {
   "cell_type": "code",
   "execution_count": null,
   "id": "d17934f9",
   "metadata": {},
   "outputs": [],
   "source": [
    "\n",
    "# Set the patch size\n",
    "patch_size = 700  # sq km\n",
    "\n",
    "# Create the GADMShapefile using the original shapefile\n",
    "new_shp = GADMShapefile(shapefile=shp.shapefile, admin_level=1)\n",
    "\n",
    "# Subdivide the original shapefile (this is costly)\n",
    "new_shp.shape_subdivide(patch_size_km=patch_size)\n",
    "print(\"Shapefile is now at\", new_shp.shapefile)\n",
    "\n",
    "# Get the results as a polars dataframe\n",
    "new_df = get_shapefile_dataframe(new_shp.shapefile)\n",
    "display(new_df.head(n=2))\n",
    "\n",
    "# Plot the resulting shapes\n",
    "import matplotlib.pyplot as plt\n",
    "\n",
    "plt.figure()\n",
    "ax = plt.gca()\n",
    "plot_shapefile_dataframe(new_df, plot_kwargs={\"facecolor\": \"xkcd:sky blue\", \"edgecolor\": \"gray\"}, ax=ax)\n",
    "plot_shapefile_dataframe(df, plot_kwargs={\"fill\": False}, ax=ax)"
   ]
  }
 ],
 "metadata": {
  "jupytext": {
   "cell_metadata_filter": "-all",
   "main_language": "python",
   "notebook_metadata_filter": "-all"
  }
 },
 "nbformat": 4,
 "nbformat_minor": 5
}
