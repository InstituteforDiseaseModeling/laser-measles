{
 "cells": [
  {
   "cell_type": "markdown",
   "id": "258692e7",
   "metadata": {},
   "source": [
    "# State Arrays\n",
    "\n",
    "This tutorial covers StateArray, a key data structure in laser-measles that provides\n",
    "convenient access to epidemiological state compartments."
   ]
  },
  {
   "cell_type": "markdown",
   "id": "0c2d5af0",
   "metadata": {},
   "source": [
    "## Section 1: StateArray Fundamentals"
   ]
  },
  {
   "cell_type": "markdown",
   "id": "4f791261",
   "metadata": {},
   "source": [
    "### What is a StateArray?\n",
    "\n",
    "StateArray is a numpy array wrapper that extends `np.ndarray` to provide attribute-based\n",
    "access to epidemiological state compartments. Instead of remembering that `states[0]` is\n",
    "Susceptible and `states[1]` is Infectious, you can use intuitive names like `states.S`\n",
    "and `states.I`."
   ]
  },
  {
   "cell_type": "code",
   "execution_count": null,
   "id": "efcde90e",
   "metadata": {},
   "outputs": [],
   "source": [
    "import numpy as np\n",
    "\n",
    "from laser_measles.utils import StateArray"
   ]
  },
  {
   "cell_type": "markdown",
   "id": "76966c6c",
   "metadata": {},
   "source": [
    "### Construction\n",
    "\n",
    "StateArray is constructed with two parameters:\n",
    "- `input_array`: A numpy array (typically 2D with shape `(num_states, num_patches)`)\n",
    "- `state_names`: A list of state compartment names"
   ]
  },
  {
   "cell_type": "code",
   "execution_count": null,
   "id": "82013924",
   "metadata": {},
   "outputs": [],
   "source": [
    "# Example: Create a StateArray for a 3-patch SIR model\n",
    "num_patches = 3\n",
    "num_states = 3\n",
    "\n",
    "# Create underlying numpy array\n",
    "data = np.array(\n",
    "    [\n",
    "        [1000, 800, 1200],  # Susceptible population in each patch\n",
    "        [10, 20, 5],  # Infectious population in each patch\n",
    "        [0, 0, 0],  # Recovered population in each patch\n",
    "    ]\n",
    ")\n",
    "\n",
    "# Wrap with StateArray\n",
    "states = StateArray(data, state_names=[\"S\", \"I\", \"R\"])\n",
    "print(\"StateArray shape:\", states.shape)\n",
    "print(\"State names:\", states._state_names)"
   ]
  },
  {
   "cell_type": "markdown",
   "id": "7022bf5e",
   "metadata": {},
   "source": [
    "### Data Storage\n",
    "\n",
    "StateArray uses standard numpy array storage with additional metadata:\n",
    "- The underlying data is stored as a regular numpy array\n",
    "- `_state_names` stores the list of state compartment names\n",
    "- `_state_indices` provides a mapping from names to array indices"
   ]
  },
  {
   "cell_type": "code",
   "execution_count": null,
   "id": "f63e0182",
   "metadata": {},
   "outputs": [],
   "source": [
    "print(\"Underlying data type:\", type(states.view(np.ndarray)))\n",
    "print(\"State indices mapping:\", states._state_indices)"
   ]
  },
  {
   "cell_type": "markdown",
   "id": "37fffcea",
   "metadata": {},
   "source": [
    "### Access Patterns\n",
    "\n",
    "StateArray supports both traditional numeric indexing and intuitive attribute access:"
   ]
  },
  {
   "cell_type": "code",
   "execution_count": null,
   "id": "428dc7cc",
   "metadata": {},
   "outputs": [],
   "source": [
    "# Numeric access (backward compatible)\n",
    "print(\"Susceptible (numeric):\", states[0])\n",
    "print(\"Infectious (numeric):\", states[1])\n",
    "\n",
    "# Attribute access (intuitive)\n",
    "print(\"Susceptible (attribute):\", states.S)\n",
    "print(\"Infectious (attribute):\", states.I)\n",
    "\n",
    "# Both approaches access the same data\n",
    "print(\"Same data?\", np.array_equal(states[0], states.S))"
   ]
  },
  {
   "cell_type": "markdown",
   "id": "8ab17496",
   "metadata": {},
   "source": [
    "## Section 2: StateArray in Practice"
   ]
  },
  {
   "cell_type": "markdown",
   "id": "00ceec1d",
   "metadata": {},
   "source": [
    "### Usage in Patches LaserFrame\n",
    "\n",
    "In laser-measles models, StateArray is used as the `states` property of the patches\n",
    "LaserFrame. This provides a convenient interface for accessing and modifying\n",
    "epidemiological compartments across spatial patches."
   ]
  },
  {
   "cell_type": "code",
   "execution_count": null,
   "id": "098a3161",
   "metadata": {},
   "outputs": [],
   "source": [
    "# Example showing how models initialize StateArray\n",
    "# (This mimics what happens in actual model initialization)\n",
    "\n",
    "# Simulate patch populations\n",
    "patch_pops = np.array([1000, 800, 1200])\n",
    "num_patches = len(patch_pops)\n",
    "\n",
    "# Create states array for SEIR model\n",
    "seir_states = np.zeros((4, num_patches))\n",
    "seir_states[0] = patch_pops  # Initialize all as Susceptible\n",
    "\n",
    "# Wrap with StateArray\n",
    "patch_states = StateArray(seir_states, state_names=[\"S\", \"E\", \"I\", \"R\"])\n",
    "\n",
    "print(\"Initial populations:\")\n",
    "print(f\"Susceptible: {patch_states.S}\")\n",
    "print(f\"Exposed: {patch_states.E}\")\n",
    "print(f\"Infectious: {patch_states.I}\")\n",
    "print(f\"Recovered: {patch_states.R}\")"
   ]
  },
  {
   "cell_type": "markdown",
   "id": "c775dec4",
   "metadata": {},
   "source": [
    "### Practical Examples\n",
    "\n",
    "StateArray supports all numpy operations while maintaining readable code:"
   ]
  },
  {
   "cell_type": "code",
   "execution_count": null,
   "id": "9103053e",
   "metadata": {},
   "outputs": [],
   "source": [
    "# Example 1: Calculate prevalence\n",
    "total_pop = patch_states.sum(axis=0)\n",
    "prevalence = patch_states.I / total_pop\n",
    "print(\"Prevalence per patch:\", prevalence)\n",
    "\n",
    "# Example 2: Simulate some infections\n",
    "new_infections = np.array([5, 3, 8])\n",
    "patch_states.S -= new_infections\n",
    "patch_states.E += new_infections\n",
    "\n",
    "print(\"After infections:\")\n",
    "print(f\"Susceptible: {patch_states.S}\")\n",
    "print(f\"Exposed: {patch_states.E}\")\n",
    "\n",
    "# Example 3: Slicing operations work as expected\n",
    "print(\"Total infectious across all patches:\", patch_states.I.sum())\n",
    "print(\"States in first patch:\", patch_states[:, 0])"
   ]
  },
  {
   "cell_type": "markdown",
   "id": "ce8a0097",
   "metadata": {},
   "source": [
    "### Benefits\n",
    "\n",
    "StateArray provides several key advantages:\n",
    "\n",
    "1. **Readable Code**: `states.S` is more intuitive than `states[0]`\n",
    "2. **Maintainability**: Adding/removing states doesn't break numeric indices\n",
    "3. **Backward Compatibility**: Existing code using numeric indexing still works\n",
    "4. **Full NumPy Support**: All numpy operations work seamlessly\n",
    "5. **Error Prevention**: Typos in state names raise AttributeError immediately\n",
    "6. **Flexibility**: Works with different model types (SIR, SEIR, etc.)"
   ]
  },
  {
   "cell_type": "code",
   "execution_count": null,
   "id": "828e7e06",
   "metadata": {},
   "outputs": [],
   "source": [
    "# Example: Error handling for invalid state names\n",
    "try:\n",
    "    invalid_state = patch_states.X  # X is not a valid state\n",
    "except AttributeError as e:\n",
    "    print(f\"Error caught: {e}\")\n",
    "\n",
    "# Example: Different state configurations\n",
    "sir_states = StateArray(np.zeros((3, 2)), state_names=[\"S\", \"I\", \"R\"])\n",
    "seirs_states = StateArray(np.zeros((5, 2)), state_names=[\"S\", \"E\", \"I\", \"R\", \"S2\"])\n",
    "\n",
    "print(\"SIR state names:\", sir_states._state_names)\n",
    "print(\"SEIRS state names:\", seirs_states._state_names)"
   ]
  },
  {
   "cell_type": "markdown",
   "id": "00afe146",
   "metadata": {},
   "source": [
    "## Summary\n",
    "\n",
    "StateArray is a wrapper that makes epidemiological modeling code more readable\n",
    "and maintainable. It provides intuitive access to disease compartments while preserving\n",
    "all the performance and functionality of numpy arrays. In laser-measles, it\n",
    "is used for the patches LaserFrame."
   ]
  }
 ],
 "metadata": {
  "jupytext": {
   "cell_metadata_filter": "-all",
   "main_language": "python",
   "notebook_metadata_filter": "-all"
  }
 },
 "nbformat": 4,
 "nbformat_minor": 5
}
