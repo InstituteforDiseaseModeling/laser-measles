{
 "cells": [
  {
   "cell_type": "code",
   "execution_count": 1,
   "id": "2c168655",
   "metadata": {},
   "outputs": [],
   "source": [
    "import numpy as np\n",
    "import pandas as pd\n",
    "from laser_core.propertyset import PropertySet\n",
    "import matplotlib.pyplot as plt\n",
    "import os\n",
    "from scipy.optimize import fsolve\n",
    "\n",
    "from laser_measles.generic import Model\n",
    "from laser_measles.generic import Infection\n",
    "from laser_measles.generic import Exposure\n",
    "from laser_measles.generic import Susceptibility\n",
    "from laser_measles.generic import Transmission\n",
    "from laser_measles.generic import BirthsConstantPop\n",
    "from laser_measles.generic.components.importation import InfectAgentsInPatch\n",
    "\n",
    "from laser_measles.generic.utils import set_initial_susceptibility_in_patch\n",
    "from laser_measles.generic.utils import seed_infections_in_patch\n"
   ]
  },
  {
   "cell_type": "markdown",
   "id": "984d847f",
   "metadata": {},
   "source": [
    "Construct the synthetic populations. We'll have 61 patches with populations distributed logarithmicaly between 1k and 1M people."
   ]
  },
  {
   "cell_type": "code",
   "execution_count": 2,
   "id": "a524ee8d",
   "metadata": {},
   "outputs": [],
   "source": [
    "nticks = 10 * 365 # lenth of the simulation in days\n",
    "npatches = 61 # number of patches (spatial units)\n",
    "pops = np.logspace(3, 6, npatches)\n",
    "scenario = pd.DataFrame({\"ids\": [str(i) for i in range(npatches)], \"population\": pops})"
   ]
  },
  {
   "cell_type": "markdown",
   "id": "fa56270a",
   "metadata": {},
   "source": [
    "Run `nsims=200` iterations sampling over R0, mean infectious perios, and crude birth rate"
   ]
  },
  {
   "cell_type": "code",
   "execution_count": null,
   "id": "0fddadaf",
   "metadata": {},
   "outputs": [
    {
     "name": "stdout",
     "output_type": "stream",
     "text": [
      "2025-06-15 12:47:13.332943: Creating the generic model…\n",
      "Initializing the generic model with 61 patches…\n",
      "2025-06-15 12:47:13.737600: Running the generic model for 3650 ticks…\n"
     ]
    },
    {
     "name": "stderr",
     "output_type": "stream",
     "text": [
      "100%|██████████| 3650/3650 [05:57<00:00, 10.20it/s]"
     ]
    },
    {
     "name": "stdout",
     "output_type": "stream",
     "text": [
      "Completed the generic model at 2025-06-15 12:53:11.592822…\n",
      "Susceptibility_census:       131,568 µs\n",
      "Exposure_census      :        39,942 µs\n",
      "Infection_census     :       131,438 µs\n",
      "Transmission_census  :        23,696 µs\n",
      "Model                :        17,318 µs\n",
      "BirthsConstantPop    :   117,137,048 µs\n",
      "Susceptibility       :        10,284 µs\n",
      "Exposure             :   189,554,080 µs\n",
      "Infection            :   188,627,770 µs\n",
      "Transmission         :   195,372,210 µs\n",
      "InfectAgentsInPatch  :    18,417,696 µs\n",
      "=======================================\n",
      "Total:                   709,463,050 microseconds\n"
     ]
    },
    {
     "name": "stderr",
     "output_type": "stream",
     "text": [
      "\n"
     ]
    }
   ],
   "source": [
    "nsims = 1 # 200\n",
    "R0_samples = np.random.uniform(3, 16, nsims)\n",
    "infmean_samples = 5 + np.random.gamma(2, 10, nsims)\n",
    "cbr_samples = 10 + np.random.gamma(2, 20, nsims)\n",
    "i = 0\n",
    "outputs = np.zeros((nsims, nticks, npatches))\n",
    "# Create a folder to store the outputs\n",
    "output_folder = os.path.abspath(os.path.join(os.getcwd(), \"CCS\"))\n",
    "if not os.path.exists(output_folder):\n",
    "    os.makedirs(output_folder)\n",
    "for R0, infmean, cbr in zip(R0_samples, infmean_samples, cbr_samples):\n",
    "    parameters = PropertySet(\n",
    "        {\n",
    "            \"seed\": np.random.randint(0, 1000000),\n",
    "            \"nticks\": nticks,\n",
    "            \"verbose\": True,\n",
    "            \"beta\": R0 / infmean,\n",
    "            \"inf_mean\": infmean,\n",
    "            \"exp_mu\": 2.5,\n",
    "            \"exp_sigma\":0.4,\n",
    "            \"inf_shape\": 2,\n",
    "            \"cbr\": cbr,\n",
    "            \"importation_period\": 180,\n",
    "            \"importation_end\": 20 * 365,\n",
    "        }\n",
    "    )\n",
    "\n",
    "    mu = (1 + parameters.cbr / 1000) ** (1 / 365) - 1\n",
    "\n",
    "    model = Model(scenario, parameters)\n",
    "    model.components = [\n",
    "        BirthsConstantPop,\n",
    "        Susceptibility,\n",
    "        Exposure,\n",
    "        Infection,\n",
    "        Transmission,\n",
    "        InfectAgentsInPatch,\n",
    "    ]\n",
    "\n",
    "    # Start them slightly asynchronously - different initial susceptibilities, infection only in 1 patch\n",
    "    # Want to see how connectivity drives correlation over time.\n",
    "    for j in range(npatches):\n",
    "        set_initial_susceptibility_in_patch(model, j, 1 / R0 + 0.1 / R0 * np.random.normal())\n",
    "\n",
    "    model.run()\n",
    "    outputs[i, :, :] = model.patches.cases_test\n",
    "    np.save(f\"{output_folder}/CCSSIRoutputs_{i}.npy\", outputs[i, :, :])\n",
    "    i += 1"
   ]
  },
  {
   "cell_type": "code",
   "execution_count": 10,
   "id": "c02c5d01",
   "metadata": {},
   "outputs": [
    {
     "name": "stdout",
     "output_type": "stream",
     "text": [
      "0 1\n",
      "12414\n"
     ]
    }
   ],
   "source": [
    "print(model.population.susceptibility.min(), model.population.susceptibility.max())\n",
    "print(model.population.susceptibility.sum())\n"
   ]
  },
  {
   "cell_type": "code",
   "execution_count": 13,
   "id": "f97cad19",
   "metadata": {},
   "outputs": [
    {
     "name": "stdout",
     "output_type": "stream",
     "text": [
      "57 0\n",
      "5919\n"
     ]
    }
   ],
   "source": [
    "print(model.population.itimer.max(), model.population.itimer.min())\n",
    "print(np.sum(model.population.itimer > 0))"
   ]
  },
  {
   "cell_type": "code",
   "execution_count": 5,
   "id": "f897075d",
   "metadata": {},
   "outputs": [
    {
     "data": {
      "text/plain": [
       "[<matplotlib.lines.Line2D at 0x7f3519e0edb0>]"
      ]
     },
     "execution_count": 5,
     "metadata": {},
     "output_type": "execute_result"
    },
    {
     "data": {
      "image/png": "[encoded data removed]",
      "text/plain": [
       "<Figure size 640x480 with 1 Axes>"
      ]
     },
     "metadata": {},
     "output_type": "display_data"
    }
   ],
   "source": [
    "plt.plot(outputs.sum(axis=-1).flatten())"
   ]
  },
  {
   "cell_type": "code",
   "execution_count": 16,
   "id": "47c73b2e",
   "metadata": {},
   "outputs": [
    {
     "data": {
      "text/plain": [
       "[<matplotlib.lines.Line2D at 0x7f3519ebe540>]"
      ]
     },
     "execution_count": 16,
     "metadata": {},
     "output_type": "execute_result"
    },
    {
     "data": {
      "image/png": "[encoded data removed]",
      "text/plain": [
       "<Figure size 640x480 with 1 Axes>"
      ]
     },
     "metadata": {},
     "output_type": "display_data"
    }
   ],
   "source": [
    "plt.plot(model.patches.cases_test.sum(axis=-1))"
   ]
  },
  {
   "cell_type": "code",
   "execution_count": 18,
   "id": "5b8d5564",
   "metadata": {},
   "outputs": [
    {
     "data": {
      "text/plain": [
       "dtype('uint32')"
      ]
     },
     "execution_count": 18,
     "metadata": {},
     "output_type": "execute_result"
    }
   ],
   "source": [
    "model.patches.cases.dtype"
   ]
  },
  {
   "cell_type": "code",
   "execution_count": 19,
   "id": "f9c0429f",
   "metadata": {},
   "outputs": [
    {
     "data": {
      "text/plain": [
       "dtype('uint32')"
      ]
     },
     "execution_count": 19,
     "metadata": {},
     "output_type": "execute_result"
    }
   ],
   "source": [
    "model.patches.cases_test.dtype"
   ]
  },
  {
   "cell_type": "code",
   "execution_count": 20,
   "id": "158d3a7c",
   "metadata": {},
   "outputs": [
    {
     "data": {
      "text/plain": [
       "True"
      ]
     },
     "execution_count": 20,
     "metadata": {},
     "output_type": "execute_result"
    }
   ],
   "source": [
    "hasattr(model.population, \"etimer\")"
   ]
  },
  {
   "cell_type": "code",
   "execution_count": null,
   "id": "26c7a3f4",
   "metadata": {},
   "outputs": [],
   "source": []
  }
 ],
 "metadata": {
  "kernelspec": {
   "display_name": ".venv",
   "language": "python",
   "name": "python3"
  },
  "language_info": {
   "codemirror_mode": {
    "name": "ipython",
    "version": 3
   },
   "file_extension": ".py",
   "mimetype": "text/x-python",
   "name": "python",
   "nbconvert_exporter": "python",
   "pygments_lexer": "ipython3",
   "version": "3.12.10"
  }
 },
 "nbformat": 4,
 "nbformat_minor": 5
}
