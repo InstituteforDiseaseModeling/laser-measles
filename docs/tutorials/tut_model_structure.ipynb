{
 "cells": [
  {
   "cell_type": "markdown",
   "id": "a6b3bf65",
   "metadata": {},
   "source": [
    "# Model structure\n",
    "\n",
    "This tutorial compares the structure of compartmental and agent-based models,\n",
    "focusing on their LaserFrame data structures and how they operate."
   ]
  },
  {
   "cell_type": "markdown",
   "id": "672450a1",
   "metadata": {},
   "source": [
    "## Overview\n",
    "\n",
    "laser-measles provides two primary modeling approaches:\n",
    "- **Compartmental Model**: Population-level SEIR dynamics using aggregated patch data\n",
    "- **ABM Model**: Individual-level simulation with stochastic agents\n",
    "\n",
    "The key difference lies in their data organization and LaserFrame structures."
   ]
  },
  {
   "cell_type": "markdown",
   "id": "3e6b0cc5",
   "metadata": {},
   "source": [
    "## Patches\n",
    "\n",
    "Patches exist for both the compartmental and ABM models and track the spatial\n",
    "data and aggregates in the model.\n",
    "The `patches` use a `BasePatchLaserFrame` (or child class) for population-level aggregates:"
   ]
  },
  {
   "cell_type": "code",
   "execution_count": null,
   "id": "5dee80e5",
   "metadata": {},
   "outputs": [],
   "source": [
    "import polars as pl\n",
    "\n",
    "from laser_measles.compartmental import CompartmentalModel\n",
    "from laser_measles.compartmental.params import CompartmentalParams\n",
    "\n",
    "# Create a simple scenario\n",
    "scenario = pl.DataFrame({\"id\": ['1', '2', '3'],\n",
    "                        \"pop\": [1000, 2000, 1500],\n",
    "                        \"lat\": [40.0, 41.0, 42.0],\n",
    "                        \"lon\": [-74.0, -73.0, -72.0],\n",
    "                        \"mcv1\": [0.0,0.0,0.0]})\n",
    "\n",
    "# Initialize compartmental model\n",
    "params = CompartmentalParams(num_ticks=100)\n",
    "comp_model = CompartmentalModel(scenario, params)\n",
    "\n",
    "# Examine the patch structure\n",
    "print(\"Compartmental model patches:\")\n",
    "print(f\"Shape: {comp_model.patches.states.shape}\")\n",
    "print(f\"State names: {comp_model.patches.states.state_names}\")\n",
    "print(f\"Initial S compartment: {comp_model.patches.states.S}\")\n",
    "print(f\"Total population: {comp_model.patches.states.S.sum()}\")\n",
    "\n",
    "# You can also print the model to get some info:\n",
    "print(\"Compartmental model 'out of the box':\")\n",
    "print(comp_model)"
   ]
  },
  {
   "cell_type": "markdown",
   "id": "8988d811",
   "metadata": {},
   "source": [
    "### Key Features of patches (e.g., BasePatchLaserFrame):\n",
    "- **`states` property**: StateArray with shape `(num_states, num_patches)`\n",
    "- **Attribute access**: `states.S`, `states.E`, `states.I`, `states.R`\n",
    "- **Population aggregates**: Each patch contains total counts by disease state\n",
    "- **Spatial organization**: Patches represent geographic locations"
   ]
  },
  {
   "cell_type": "markdown",
   "id": "a549afbe",
   "metadata": {},
   "source": [
    "## People\n",
    "\n",
    "In addition to a `patch`, the ABM uses `people` (e.g., `BasePeopleLaserFrame`) for individual agents:"
   ]
  },
  {
   "cell_type": "code",
   "execution_count": null,
   "id": "9a928b6b",
   "metadata": {},
   "outputs": [],
   "source": [
    "from laser_measles.abm import ABMModel\n",
    "from laser_measles.abm.components import TransmissionProcess\n",
    "from laser_measles.abm.params import ABMParams\n",
    "\n",
    "# Initialize ABM model\n",
    "abm_params = ABMParams(num_ticks=100)\n",
    "abm_model = ABMModel(scenario, abm_params)\n",
    "\n",
    "# Examine the model\n",
    "print(\"ABM model 'out of the box':\")\n",
    "print(abm_model)\n",
    "\n",
    "# Now what if add a transmission?\n",
    "abm_model.add_component(TransmissionProcess)\n",
    "print(\"ABM model after adding transmission:\")\n",
    "print(abm_model)"
   ]
  },
  {
   "cell_type": "markdown",
   "id": "2dffcfaf",
   "metadata": {},
   "source": [
    "### Key Features of BasePeopleLaserFrame:\n",
    "- **Individual agents**: Each row represents one person\n",
    "- **Agent properties**: `patch_id`, `state`, `susceptibility`, `active`\n",
    "- **Dynamic capacity**: Can grow/shrink as agents are born/die\n",
    "- **Stochastic processes**: Each agent processed individually"
   ]
  },
  {
   "cell_type": "markdown",
   "id": "6dde78d0",
   "metadata": {},
   "source": [
    "## Key Differences\n",
    "\n",
    "| Aspect | Compartmental | ABM |\n",
    "|--------|---------------|-----|\n",
    "| **Data Structure** | `BasePatchLaserFrame` | `BasePeopleLaserFrame` |\n",
    "| **Population Storage** | Aggregated counts by patch | Individual agents |\n",
    "| **State Representation** | `states.S[patch_id]` | `people.state[agent_id]` |\n",
    "| **Spatial Organization** | Patch-level mixing matrix | Agent patch assignment |\n",
    "| **Transitions** | Binomial sampling | Individual stochastic events |\n",
    "| **Performance** | Faster (fewer calculations) | Slower (more detailed) |\n",
    "| **Memory Usage** | Lower (aggregates) | Higher (individual records) |"
   ]
  },
  {
   "cell_type": "markdown",
   "id": "0150cc85",
   "metadata": {},
   "source": [
    "## When to Use Each Model\n",
    "\n",
    "**Use Compartmental Model when:**\n",
    "- Analyzing population-level dynamics\n",
    "- Running many scenarios quickly\n",
    "- Interested in aggregate outcomes\n",
    "- Working with large populations\n",
    "\n",
    "**Use ABM Model when:**\n",
    "- Modeling individual heterogeneity\n",
    "- Studying contact networks\n",
    "- Tracking individual histories\n",
    "- Need detailed stochastic processes\n",
    "\n",
    "Both models share the same component architecture and can use similar\n",
    "initialization and analysis tools, making it easy to switch between approaches."
   ]
  }
 ],
 "metadata": {
  "jupytext": {
   "cell_metadata_filter": "-all",
   "main_language": "python",
   "notebook_metadata_filter": "-all"
  }
 },
 "nbformat": 4,
 "nbformat_minor": 5
}
