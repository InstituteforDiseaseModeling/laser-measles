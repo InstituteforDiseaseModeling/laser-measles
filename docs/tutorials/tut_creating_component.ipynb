{
 "cells": [
  {
   "cell_type": "markdown",
   "id": "714dd5aa",
   "metadata": {},
   "source": [
    "# Creating Custom Components\n",
    "\n",
    "This tutorial demonstrates how to create custom components for the compartmental model.\n",
    "We'll build a PIRI component that periodically strengthens vaccination coverage."
   ]
  },
  {
   "cell_type": "code",
   "execution_count": null,
   "id": "b9ff8fae",
   "metadata": {},
   "outputs": [],
   "source": [
    "import polars as pl\n",
    "from pydantic import BaseModel\n",
    "from pydantic import Field\n",
    "\n",
    "import laser_measles as lm\n",
    "from laser_measles.base import BasePhase\n",
    "from laser_measles.utils import cast_type"
   ]
  },
  {
   "cell_type": "markdown",
   "id": "9d144e0a",
   "metadata": {},
   "source": [
    "## Component Architecture\n",
    "\n",
    "Components in laser-measles follow a standard pattern:\n",
    "1. **Parameter Class**: Pydantic model defining component parameters\n",
    "2. **Component Class**: Inherits from `BasePhase` and implements the logic\n",
    "3. **Integration**: Add to model's component list and run simulation"
   ]
  },
  {
   "cell_type": "markdown",
   "id": "a63e8b4f",
   "metadata": {
    "lines_to_next_cell": 2
   },
   "source": [
    "## Creating the PIRI Component\n",
    "\n",
    "Let's create a component that implements Periodic Intensification of Routine Immunization (PIRI)\n",
    "to simulate vaccination campaigns that occur every year for one month."
   ]
  },
  {
   "cell_type": "code",
   "execution_count": null,
   "id": "06594369",
   "metadata": {
    "lines_to_next_cell": 2
   },
   "outputs": [],
   "source": [
    "class PIRIParams(BaseModel):\n",
    "    \"\"\"Parameters for the PIRI (Periodic Intensification of Routine Immunization) component.\"\"\"\n",
    "\n",
    "    boost_strength: float = Field(default=0.15, description=\"Percentage increase in vaccination coverage during boost\", ge=0.0, le=1.0)\n",
    "    boost_interval: int = Field(default=365, description=\"Days between vaccination campaigns\", gt=0)\n",
    "    boost_duration: int = Field(default=30, description=\"Duration of vaccination campaign in days\", gt=0)\n",
    "    start_day: int = Field(default=90, description=\"Day to start first vaccination campaign\", ge=0)\n",
    "\n",
    "\n",
    "class PIRIProcess(BasePhase):\n",
    "    \"\"\"\n",
    "    Component that implements Periodic Intensification of Routine Immunization (PIRI).\n",
    "\n",
    "    This component simulates vaccination campaigns that occur at regular intervals,\n",
    "    moving susceptible individuals to the recovered compartment based on boost strength.\n",
    "    \"\"\"\n",
    "\n",
    "    def __init__(self, model, params: PIRIParams | None = None, verbose: bool = False):\n",
    "        super().__init__(model, verbose)\n",
    "        self.params = params if params is not None else PIRIParams()\n",
    "\n",
    "    def __call__(self, model, tick: int):\n",
    "        \"\"\"Execute vaccination campaign if within boost period.\"\"\"\n",
    "        # Check if we're in a boost period\n",
    "        if not self._is_boost_active(tick):\n",
    "            return\n",
    "\n",
    "        # Get current states\n",
    "        states = model.patches.states\n",
    "\n",
    "        # Calculate number to vaccinate in each patch\n",
    "        # Use binomial sampling for realistic vaccination\n",
    "        susceptible_counts = states.S\n",
    "        vaccinated = cast_type(model.prng.binomial(susceptible_counts, self.params.boost_strength), states.dtype, round=True)\n",
    "\n",
    "        # Move vaccinated individuals from S to R\n",
    "        states.S -= vaccinated\n",
    "        states.R += vaccinated\n",
    "\n",
    "        if self.verbose and vaccinated.sum() > 0:\n",
    "            print(f\"Day {tick}: Vaccinated {vaccinated.sum()} individuals\")\n",
    "\n",
    "    def _is_boost_active(self, tick: int) -> bool:\n",
    "        \"\"\"Check if current tick is within an active boost period.\"\"\"\n",
    "        if tick < self.params.start_day:\n",
    "            return False\n",
    "\n",
    "        # Calculate days since start\n",
    "        days_since_start = tick - self.params.start_day\n",
    "\n",
    "        # Check if we're in a boost period\n",
    "        cycle_position = days_since_start % self.params.boost_interval\n",
    "        return cycle_position < self.params.boost_duration\n",
    "\n",
    "    def initialize(self, model):\n",
    "        \"\"\"Initialize component (no special initialization needed).\"\"\"\n",
    "        return"
   ]
  },
  {
   "cell_type": "markdown",
   "id": "2cb2c9df",
   "metadata": {
    "lines_to_next_cell": 2
   },
   "source": [
    "## Testing the Component\n",
    "\n",
    "Let's create two simulations: one with the PIRI component and one without,\n",
    "to see the impact on disease transmission."
   ]
  },
  {
   "cell_type": "code",
   "execution_count": null,
   "id": "0f4da8f5",
   "metadata": {},
   "outputs": [],
   "source": [
    "def run_simulation(use_piri: bool = True, num_ticks: int = 730) -> tuple:\n",
    "    \"\"\"Run a simulation with or without the PIRI component.\"\"\"\n",
    "\n",
    "    # Create scenario with low initial MCV1 coverage\n",
    "    scenario = lm.compartmental.BaseScenario(lm.scenarios.synthetic.single_patch_scenario(population=100_000, mcv1_coverage=0.3))\n",
    "\n",
    "    # Create model parameters\n",
    "    params = lm.compartmental.CompartmentalParams(num_ticks=num_ticks, verbose=False, seed=42)\n",
    "\n",
    "    # Create and configure model\n",
    "    model = lm.compartmental.CompartmentalModel(scenario, params)\n",
    "\n",
    "    # Base components for all simulations\n",
    "    components = [\n",
    "        # Initialize with some immune individuals based on MCV1 coverage\n",
    "        lm.create_component(\n",
    "            lm.compartmental.components.InitializeEquilibriumStatesProcess, lm.compartmental.components.InitializeEquilibriumStatesParams()\n",
    "        ),\n",
    "        # Seed infection to start outbreak\n",
    "        lm.create_component(\n",
    "            lm.compartmental.components.InfectionSeedingProcess, lm.compartmental.components.InfectionSeedingParams(num_infections=50)\n",
    "        ),\n",
    "        # Disease transmission\n",
    "        lm.compartmental.components.InfectionProcess,\n",
    "        # Track states over time\n",
    "        lm.compartmental.components.StateTracker,\n",
    "    ]\n",
    "\n",
    "    # Add PIRI component if requested\n",
    "    if use_piri:\n",
    "        piri_params = PIRIParams(\n",
    "            boost_strength=0.20,  # 20% of susceptibles vaccinated\n",
    "            boost_interval=365,  # Annual campaigns\n",
    "            boost_duration=30,  # Month-long campaigns\n",
    "            start_day=90,  # Start after 3 months\n",
    "        )\n",
    "        components.append(lm.create_component(PIRIProcess, piri_params))\n",
    "\n",
    "    model.components = components\n",
    "\n",
    "    # Run simulation\n",
    "    model.run()\n",
    "\n",
    "    # Get results\n",
    "    state_tracker = model.get_instance(lm.compartmental.components.StateTracker)[0]\n",
    "    results_df = state_tracker.get_dataframe()\n",
    "\n",
    "    # Pivot to get state counts over time (tick, S, E, I, R format)\n",
    "    results = results_df.pivot(index=\"tick\", on=\"state\", values=\"count\").with_columns(pl.col(\"tick\").cast(pl.Int32))\n",
    "\n",
    "    return model, results"
   ]
  },
  {
   "cell_type": "markdown",
   "id": "5ffd6cac",
   "metadata": {},
   "source": [
    "## Comparison of Results\n",
    "\n",
    "Let's run both simulations and compare the outcomes."
   ]
  },
  {
   "cell_type": "code",
   "execution_count": null,
   "id": "f1be9b81",
   "metadata": {},
   "outputs": [],
   "source": [
    "print(\"Running simulation without PIRI...\")\n",
    "model_no_piri, results_no_piri = run_simulation(use_piri=False)\n",
    "\n",
    "print(\"Running simulation with PIRI...\")\n",
    "model_with_piri, results_with_piri = run_simulation(use_piri=True)\n",
    "\n",
    "print(\"\\n\" + \"=\" * 50)\n",
    "print(\"SIMULATION RESULTS COMPARISON\")\n",
    "print(\"=\" * 50)"
   ]
  },
  {
   "cell_type": "code",
   "execution_count": null,
   "id": "52205d5e",
   "metadata": {},
   "outputs": [],
   "source": [
    "# Compare final outcomes\n",
    "final_no_piri = results_no_piri.tail(1)\n",
    "final_with_piri = results_with_piri.tail(1)\n",
    "\n",
    "print(f\"\\nFinal Results (Day {final_no_piri['tick'][0]}):\")\n",
    "print(f\"{'Metric':<20} {'No PIRI':<15} {'With PIRI':<15} {'Difference':<15}\")\n",
    "print(\"-\" * 65)\n",
    "\n",
    "for state in [\"S\", \"E\", \"I\", \"R\"]:\n",
    "    no_piri_val = final_no_piri[state][0]\n",
    "    with_piri_val = final_with_piri[state][0]\n",
    "    difference = with_piri_val - no_piri_val\n",
    "\n",
    "    print(f\"{state + ' (final)':<20} {no_piri_val:<15,} {with_piri_val:<15,} {difference:<15,}\")"
   ]
  },
  {
   "cell_type": "code",
   "execution_count": null,
   "id": "06242f9e",
   "metadata": {},
   "outputs": [],
   "source": [
    "# Calculate attack rates (fraction of population that got infected)\n",
    "total_pop = 100_000\n",
    "\n",
    "attack_rate_no_piri = (final_no_piri[\"R\"][0] / total_pop) * 100\n",
    "attack_rate_with_piri = (final_with_piri[\"R\"][0] / total_pop) * 100\n",
    "\n",
    "print(\"\\nAttack Rates:\")\n",
    "print(f\"No PIRI:    {attack_rate_no_piri:.1f}%\")\n",
    "print(f\"With PIRI:  {attack_rate_with_piri:.1f}%\")\n",
    "print(f\"Difference:    {attack_rate_with_piri - attack_rate_no_piri:.1f} percentage points\")\n",
    "print(\"Note: PIRI vaccinations move people directly to R, so final R includes both\\nnatural infections and vaccinations.\")"
   ]
  },
  {
   "cell_type": "code",
   "execution_count": null,
   "id": "790825e3",
   "metadata": {},
   "outputs": [],
   "source": [
    "# Find peak infections\n",
    "peak_no_piri = results_no_piri.select(pl.col(\"I\").max()).item()\n",
    "peak_with_piri = results_with_piri.select(pl.col(\"I\").max()).item()\n",
    "\n",
    "print(\"\\nPeak Infections:\")\n",
    "print(f\"No PIRI:    {peak_no_piri:,}\")\n",
    "print(f\"With PIRI:  {peak_with_piri:,}\")\n",
    "print(f\"Reduction:     {peak_no_piri - peak_with_piri:,} ({100 * (peak_no_piri - peak_with_piri) / peak_no_piri:.1f}%)\")"
   ]
  },
  {
   "cell_type": "markdown",
   "id": "04fed686",
   "metadata": {},
   "source": [
    "## Key Insights\n",
    "\n",
    "This tutorial demonstrates:\n",
    "\n",
    "1. **Component Structure**: Parameter class + component class inheriting from `BasePhase`\n",
    "2. **Pydantic Validation**: Use Field() with constraints for robust parameter handling\n",
    "3. **Model Integration**: Components are added to model.components list\n",
    "4. **State Manipulation**: Direct access to model.patches.states for SEIR compartments\n",
    "5. **Stochastic Sampling**: Use binomial distribution for realistic vaccination\n",
    "6. **Timing Logic**: Implement periodic behavior using modulo arithmetic\n",
    "\n",
    "The PIRI component successfully reduces peak infections, demonstrating the public health\n",
    "impact of vaccination campaigns. While the final recovered population is higher with PIRI\n",
    "(because vaccinated individuals move directly to R), the key benefit is reduced peak\n",
    "infections, which prevents healthcare system overload."
   ]
  },
  {
   "cell_type": "markdown",
   "id": "03893ec0",
   "metadata": {},
   "source": [
    "## Best Practices\n",
    "\n",
    "When creating components:\n",
    "- Use Pydantic BaseModel for parameters with proper validation\n",
    "- Inherit from BasePhase for components that run each tick\n",
    "- Use model.prng for reproducible random number generation\n",
    "- Include verbose logging for debugging\n",
    "- Follow Google docstring conventions\n",
    "- Test components with simple scenarios first"
   ]
  }
 ],
 "metadata": {
  "jupytext": {
   "cell_metadata_filter": "-all",
   "main_language": "python",
   "notebook_metadata_filter": "-all"
  }
 },
 "nbformat": 4,
 "nbformat_minor": 5
}
